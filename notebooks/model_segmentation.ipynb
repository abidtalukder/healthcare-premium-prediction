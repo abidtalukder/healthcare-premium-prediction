{
 "cells": [
  {
   "cell_type": "code",
   "execution_count": 1,
   "id": "initial_id",
   "metadata": {
    "ExecuteTime": {
     "end_time": "2025-04-16T03:48:57.728818Z",
     "start_time": "2025-04-16T03:48:57.727350Z"
    },
    "collapsed": true,
    "jupyter": {
     "outputs_hidden": true
    }
   },
   "outputs": [],
   "source": [
    "import pandas as pd\n",
    "import numpy as np\n"
   ]
  },
  {
   "cell_type": "code",
   "execution_count": 2,
   "id": "5eef455bf5a0b87a",
   "metadata": {
    "ExecuteTime": {
     "end_time": "2025-04-16T03:49:36.692960Z",
     "start_time": "2025-04-16T03:49:36.642099Z"
    }
   },
   "outputs": [
    {
     "data": {
      "text/html": [
       "<div>\n",
       "<style scoped>\n",
       "    .dataframe tbody tr th:only-of-type {\n",
       "        vertical-align: middle;\n",
       "    }\n",
       "\n",
       "    .dataframe tbody tr th {\n",
       "        vertical-align: top;\n",
       "    }\n",
       "\n",
       "    .dataframe thead th {\n",
       "        text-align: right;\n",
       "    }\n",
       "</style>\n",
       "<table border=\"1\" class=\"dataframe\">\n",
       "  <thead>\n",
       "    <tr style=\"text-align: right;\">\n",
       "      <th></th>\n",
       "      <th>age</th>\n",
       "      <th>number_of_dependants</th>\n",
       "      <th>income_lakhs</th>\n",
       "      <th>insurance_plan</th>\n",
       "      <th>annual_premium_amount</th>\n",
       "      <th>risk_score</th>\n",
       "      <th>gender_male</th>\n",
       "      <th>region_northwest</th>\n",
       "      <th>region_southeast</th>\n",
       "      <th>region_southwest</th>\n",
       "      <th>marital_status_unmarried</th>\n",
       "      <th>bmi_category_obesity</th>\n",
       "      <th>bmi_category_overweight</th>\n",
       "      <th>bmi_category_underweight</th>\n",
       "      <th>smoking_status_occasional</th>\n",
       "      <th>smoking_status_regular</th>\n",
       "      <th>employment_status_salaried</th>\n",
       "      <th>employment_status_self_employed</th>\n",
       "    </tr>\n",
       "  </thead>\n",
       "  <tbody>\n",
       "    <tr>\n",
       "      <th>0</th>\n",
       "      <td>26</td>\n",
       "      <td>0</td>\n",
       "      <td>6</td>\n",
       "      <td>1</td>\n",
       "      <td>9053</td>\n",
       "      <td>6</td>\n",
       "      <td>True</td>\n",
       "      <td>True</td>\n",
       "      <td>False</td>\n",
       "      <td>False</td>\n",
       "      <td>True</td>\n",
       "      <td>False</td>\n",
       "      <td>False</td>\n",
       "      <td>False</td>\n",
       "      <td>False</td>\n",
       "      <td>False</td>\n",
       "      <td>True</td>\n",
       "      <td>False</td>\n",
       "    </tr>\n",
       "    <tr>\n",
       "      <th>1</th>\n",
       "      <td>29</td>\n",
       "      <td>2</td>\n",
       "      <td>6</td>\n",
       "      <td>1</td>\n",
       "      <td>16339</td>\n",
       "      <td>6</td>\n",
       "      <td>False</td>\n",
       "      <td>False</td>\n",
       "      <td>True</td>\n",
       "      <td>False</td>\n",
       "      <td>False</td>\n",
       "      <td>True</td>\n",
       "      <td>False</td>\n",
       "      <td>False</td>\n",
       "      <td>False</td>\n",
       "      <td>True</td>\n",
       "      <td>True</td>\n",
       "      <td>False</td>\n",
       "    </tr>\n",
       "    <tr>\n",
       "      <th>2</th>\n",
       "      <td>49</td>\n",
       "      <td>2</td>\n",
       "      <td>20</td>\n",
       "      <td>2</td>\n",
       "      <td>18164</td>\n",
       "      <td>6</td>\n",
       "      <td>False</td>\n",
       "      <td>False</td>\n",
       "      <td>False</td>\n",
       "      <td>False</td>\n",
       "      <td>False</td>\n",
       "      <td>False</td>\n",
       "      <td>False</td>\n",
       "      <td>False</td>\n",
       "      <td>False</td>\n",
       "      <td>False</td>\n",
       "      <td>False</td>\n",
       "      <td>True</td>\n",
       "    </tr>\n",
       "    <tr>\n",
       "      <th>3</th>\n",
       "      <td>30</td>\n",
       "      <td>3</td>\n",
       "      <td>77</td>\n",
       "      <td>3</td>\n",
       "      <td>20303</td>\n",
       "      <td>0</td>\n",
       "      <td>False</td>\n",
       "      <td>False</td>\n",
       "      <td>True</td>\n",
       "      <td>False</td>\n",
       "      <td>False</td>\n",
       "      <td>False</td>\n",
       "      <td>False</td>\n",
       "      <td>False</td>\n",
       "      <td>False</td>\n",
       "      <td>False</td>\n",
       "      <td>True</td>\n",
       "      <td>False</td>\n",
       "    </tr>\n",
       "    <tr>\n",
       "      <th>4</th>\n",
       "      <td>18</td>\n",
       "      <td>0</td>\n",
       "      <td>99</td>\n",
       "      <td>2</td>\n",
       "      <td>13365</td>\n",
       "      <td>6</td>\n",
       "      <td>True</td>\n",
       "      <td>False</td>\n",
       "      <td>False</td>\n",
       "      <td>False</td>\n",
       "      <td>True</td>\n",
       "      <td>False</td>\n",
       "      <td>True</td>\n",
       "      <td>False</td>\n",
       "      <td>False</td>\n",
       "      <td>True</td>\n",
       "      <td>False</td>\n",
       "      <td>True</td>\n",
       "    </tr>\n",
       "  </tbody>\n",
       "</table>\n",
       "</div>"
      ],
      "text/plain": [
       "   age  number_of_dependants  income_lakhs  insurance_plan  \\\n",
       "0   26                     0             6               1   \n",
       "1   29                     2             6               1   \n",
       "2   49                     2            20               2   \n",
       "3   30                     3            77               3   \n",
       "4   18                     0            99               2   \n",
       "\n",
       "   annual_premium_amount  risk_score  gender_male  region_northwest  \\\n",
       "0                   9053           6         True              True   \n",
       "1                  16339           6        False             False   \n",
       "2                  18164           6        False             False   \n",
       "3                  20303           0        False             False   \n",
       "4                  13365           6         True             False   \n",
       "\n",
       "   region_southeast  region_southwest  marital_status_unmarried  \\\n",
       "0             False             False                      True   \n",
       "1              True             False                     False   \n",
       "2             False             False                     False   \n",
       "3              True             False                     False   \n",
       "4             False             False                      True   \n",
       "\n",
       "   bmi_category_obesity  bmi_category_overweight  bmi_category_underweight  \\\n",
       "0                 False                    False                     False   \n",
       "1                  True                    False                     False   \n",
       "2                 False                    False                     False   \n",
       "3                 False                    False                     False   \n",
       "4                 False                     True                     False   \n",
       "\n",
       "   smoking_status_occasional  smoking_status_regular  \\\n",
       "0                      False                   False   \n",
       "1                      False                    True   \n",
       "2                      False                   False   \n",
       "3                      False                   False   \n",
       "4                      False                    True   \n",
       "\n",
       "   employment_status_salaried  employment_status_self_employed  \n",
       "0                        True                            False  \n",
       "1                        True                            False  \n",
       "2                       False                             True  \n",
       "3                        True                            False  \n",
       "4                       False                             True  "
      ]
     },
     "execution_count": 2,
     "metadata": {},
     "output_type": "execute_result"
    }
   ],
   "source": [
    "df = pd.read_csv('../data/processed/premiums_2.csv')\n",
    "df.head()"
   ]
  },
  {
   "cell_type": "code",
   "execution_count": 3,
   "id": "127ac3a10fd7d203",
   "metadata": {
    "ExecuteTime": {
     "end_time": "2025-04-16T03:50:26.104032Z",
     "start_time": "2025-04-16T03:50:26.096192Z"
    }
   },
   "outputs": [
    {
     "data": {
      "text/plain": [
       "(29822, 18)"
      ]
     },
     "execution_count": 3,
     "metadata": {},
     "output_type": "execute_result"
    }
   ],
   "source": [
    "df_young = df[df['age'] <= 25]\n",
    "df_rest = df[df['age'] > 25]\n",
    "\n",
    "df_young.shape\n",
    "df_rest.shape"
   ]
  },
  {
   "cell_type": "code",
   "execution_count": 4,
   "id": "f0d23fc4bfb66f71",
   "metadata": {
    "ExecuteTime": {
     "end_time": "2025-04-16T03:50:51.598856Z",
     "start_time": "2025-04-16T03:50:51.544466Z"
    }
   },
   "outputs": [],
   "source": [
    "df_young.to_csv('../data/processed/premiums_young.csv', index=False)"
   ]
  },
  {
   "cell_type": "code",
   "execution_count": 5,
   "id": "e913c7a0e814f49a",
   "metadata": {
    "ExecuteTime": {
     "end_time": "2025-04-16T03:50:58.110270Z",
     "start_time": "2025-04-16T03:50:58.039177Z"
    }
   },
   "outputs": [],
   "source": [
    "df_rest.to_csv('../data/processed/premiums_rest.csv', index=False)"
   ]
  },
  {
   "cell_type": "code",
   "execution_count": null,
   "id": "4a996be2e521539a",
   "metadata": {},
   "outputs": [],
   "source": []
  }
 ],
 "metadata": {
  "kernelspec": {
   "display_name": "Python 3 (ipykernel)",
   "language": "python",
   "name": "python3"
  },
  "language_info": {
   "codemirror_mode": {
    "name": "ipython",
    "version": 3
   },
   "file_extension": ".py",
   "mimetype": "text/x-python",
   "name": "python",
   "nbconvert_exporter": "python",
   "pygments_lexer": "ipython3",
   "version": "3.12.4"
  }
 },
 "nbformat": 4,
 "nbformat_minor": 5
}
